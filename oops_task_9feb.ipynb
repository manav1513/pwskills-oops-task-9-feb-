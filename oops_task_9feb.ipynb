{
 "cells": [
  {
   "cell_type": "code",
   "execution_count": 6,
   "id": "5273e406-9d01-44e9-b072-849f3103d597",
   "metadata": {},
   "outputs": [],
   "source": [
    "# Q1, Create a vehicle class with an init method having instance variables as name_of_vehicle, max_speed\n",
    "# and average_of_vehicle.\n",
    "\n",
    "class vehicle:\n",
    "    def __init__(self,name,max_speed,average):\n",
    "        self.name = name\n",
    "        self.max_speed = max_speed\n",
    "        self.average = average\n",
    "        \n",
    "    def get_data(self):\n",
    "        return self.name,self.max_speed,self.average"
   ]
  },
  {
   "cell_type": "code",
   "execution_count": 7,
   "id": "d3314df2-4132-407b-9f61-e69b737316a1",
   "metadata": {},
   "outputs": [],
   "source": [
    "bugatti = vehicle(\"buggati_chiron\",\"490.484 km/h\",\"100 km/h\")"
   ]
  },
  {
   "cell_type": "code",
   "execution_count": 8,
   "id": "fc39d3be-2ee2-46af-882b-d54a8b9624f7",
   "metadata": {},
   "outputs": [
    {
     "data": {
      "text/plain": [
       "('buggati_chiron', '490.484 km/h', '100 km/h')"
      ]
     },
     "execution_count": 8,
     "metadata": {},
     "output_type": "execute_result"
    }
   ],
   "source": [
    "bugatti.get_data()"
   ]
  },
  {
   "cell_type": "code",
   "execution_count": 16,
   "id": "25020548-956d-4843-ab99-9b987ff1f4e4",
   "metadata": {},
   "outputs": [],
   "source": [
    "# Q2. Create a child class car from the vehicle class created in Que 1, which will inherit the vehicle class.\n",
    "# Create a method named seating_capacity which takes capacity as an argument and returns the name of\n",
    "# the vehicle and its seating capacity.\n",
    "\n",
    "class vehicle:\n",
    "    def __init__(self,name,max_speed,average):\n",
    "        self.name = name\n",
    "        self.max_speed = max_speed\n",
    "        self.average = average\n",
    "        \n",
    "class car(vehicle):\n",
    "    def seating_capacity(self,capacity):\n",
    "        self.capacity=capacity\n",
    "        return self.name, self.capacity"
   ]
  },
  {
   "cell_type": "code",
   "execution_count": 18,
   "id": "fece9a24-e2d1-4b47-8411-e28ebb8f7f3f",
   "metadata": {},
   "outputs": [
    {
     "data": {
      "text/plain": [
       "('buggati_chiron', 5)"
      ]
     },
     "execution_count": 18,
     "metadata": {},
     "output_type": "execute_result"
    }
   ],
   "source": [
    "car  = car(\"buggati_chiron\",\"490.484 km/h\",\"100 km/h\")\n",
    "car.seating_capacity(5)"
   ]
  },
  {
   "cell_type": "code",
   "execution_count": 19,
   "id": "f57a8ce3-c217-4f3e-b12c-7f2ef489fc66",
   "metadata": {},
   "outputs": [],
   "source": [
    "# Q3. What is multiple inheritance? Write a python code to demonstrate multiple inheritance.\n",
    "\n",
    "# Multiple inheritance is a feature in object-oriented programming (OOP) where a class can inherit properties\n",
    "# and behaviors from more than one parent class. It means a single class can inherit from multiple base classes \n",
    "# and inherit the attributes and methods of all the parent classes. This allows for creating new classes that are\n",
    "# more specialized and have a combination of properties from multiple parent classes\n",
    "class c1:\n",
    "    def c1(self):\n",
    "        return\"this is first class c1\"\n",
    "class c2:\n",
    "    def c2(self):\n",
    "        return\"this is 2nd class c2\"\n",
    "class c3(c1,c2):\n",
    "    pass"
   ]
  },
  {
   "cell_type": "code",
   "execution_count": 20,
   "id": "596c6d8a-c039-40fe-a520-e81f1f87ad52",
   "metadata": {},
   "outputs": [],
   "source": [
    "chile = c3()"
   ]
  },
  {
   "cell_type": "code",
   "execution_count": 21,
   "id": "808a7b67-9a0c-4414-b074-c0592d05282b",
   "metadata": {},
   "outputs": [
    {
     "data": {
      "text/plain": [
       "'this is first class c1'"
      ]
     },
     "execution_count": 21,
     "metadata": {},
     "output_type": "execute_result"
    }
   ],
   "source": [
    "chile.c1()"
   ]
  },
  {
   "cell_type": "code",
   "execution_count": 23,
   "id": "3a0417e0-2198-4a57-b490-445ec9fdfcb9",
   "metadata": {},
   "outputs": [
    {
     "data": {
      "text/plain": [
       "'this is 2nd class c2'"
      ]
     },
     "execution_count": 23,
     "metadata": {},
     "output_type": "execute_result"
    }
   ],
   "source": [
    "chile.c2()"
   ]
  },
  {
   "cell_type": "code",
   "execution_count": 24,
   "id": "5d8ab0cc-4c9e-4d06-a367-83339f1125aa",
   "metadata": {},
   "outputs": [],
   "source": [
    "# Q4. What are getter and setter in python?Create a class and create a getter and a setter method in this\n",
    "# class.\n",
    "\n",
    "# ans = In Python, getters and setters are used to define the methods that get and set the values of an \n",
    "# object's attributes, respectively. They are used to encapsulate the internal representation of an object,\n",
    "# and to ensure that any changes to an object's attributes are properly controlled.\n",
    "\n",
    "class bike:\n",
    "    def __init__(self,year,model,avg):\n",
    "        self.year=year\n",
    "        self.model=model\n",
    "        self.__avg=avg\n",
    "    def set_avg(self,avg):\n",
    "        self.__avg=0 if avg<0 else avg\n",
    "    def get_avg(self):\n",
    "        return self.__avg\n",
    "    \n",
    "b=bike(2021,\"honda\",40)"
   ]
  },
  {
   "cell_type": "code",
   "execution_count": 25,
   "id": "49a06b8d-0e90-4944-ad4b-e70d3b7061d0",
   "metadata": {},
   "outputs": [
    {
     "data": {
      "text/plain": [
       "40"
      ]
     },
     "execution_count": 25,
     "metadata": {},
     "output_type": "execute_result"
    }
   ],
   "source": [
    "b.get_avg()"
   ]
  },
  {
   "cell_type": "code",
   "execution_count": 26,
   "id": "a1189a0e-be46-48da-bc5c-353cfd0ac76e",
   "metadata": {},
   "outputs": [],
   "source": [
    "b.set_avg(60)"
   ]
  },
  {
   "cell_type": "code",
   "execution_count": 27,
   "id": "3d2c9dc5-0855-4b18-8b48-06c72319667c",
   "metadata": {},
   "outputs": [
    {
     "data": {
      "text/plain": [
       "60"
      ]
     },
     "execution_count": 27,
     "metadata": {},
     "output_type": "execute_result"
    }
   ],
   "source": [
    "b.get_avg()"
   ]
  },
  {
   "cell_type": "code",
   "execution_count": 29,
   "id": "4084263b-0983-4907-aa12-45ff933d4fbb",
   "metadata": {},
   "outputs": [],
   "source": [
    "# Q5.What is method overriding in python? Write a python code to demonstrate method overriding.\n",
    "\n",
    "# ans = Method overriding in Python refers to the ability of a subclass to provide a new implementation \n",
    "# of a method that is already defined in its parent class.\n",
    "# The subclass can override the method of the parent class by defining a method with the same name in the subclass.\n",
    "\n",
    "class Parent():\n",
    "      \n",
    "  \n",
    "    def __init__(self):\n",
    "        self.value = \"Inside Parent\"\n",
    "          \n",
    "    def show(self):\n",
    "        print(self.value)\n",
    "          \n",
    "class Child(Parent):\n",
    "      \n",
    "    def __init__(self):\n",
    "        self.value = \"Inside Child\"\n",
    "          \n",
    "    def show(self):\n",
    "        print(self.value)\n",
    "          "
   ]
  },
  {
   "cell_type": "code",
   "execution_count": 30,
   "id": "a3be75a2-53bf-40fb-a0da-f435ef4fc822",
   "metadata": {},
   "outputs": [
    {
     "name": "stdout",
     "output_type": "stream",
     "text": [
      "Inside Parent\n",
      "Inside Child\n"
     ]
    }
   ],
   "source": [
    "obj1 = Parent()\n",
    "obj2 = Child()\n",
    "  \n",
    "obj1.show()\n",
    "obj2.show()"
   ]
  }
 ],
 "metadata": {
  "kernelspec": {
   "display_name": "Python 3 (ipykernel)",
   "language": "python",
   "name": "python3"
  },
  "language_info": {
   "codemirror_mode": {
    "name": "ipython",
    "version": 3
   },
   "file_extension": ".py",
   "mimetype": "text/x-python",
   "name": "python",
   "nbconvert_exporter": "python",
   "pygments_lexer": "ipython3",
   "version": "3.10.8"
  }
 },
 "nbformat": 4,
 "nbformat_minor": 5
}
